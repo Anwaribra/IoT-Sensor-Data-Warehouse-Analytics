{
 "cells": [
  {
   "cell_type": "code",
   "execution_count": 13,
   "metadata": {},
   "outputs": [],
   "source": [
    "import numpy as np\n",
    "import pandas as pd\n",
    "import matplotlib.pyplot as plt\n",
    "from scipy.signal import butter, lfilter\n"
   ]
  },
  {
   "cell_type": "code",
   "execution_count": 14,
   "metadata": {},
   "outputs": [
    {
     "data": {
      "text/html": [
       "<div>\n",
       "<style scoped>\n",
       "    .dataframe tbody tr th:only-of-type {\n",
       "        vertical-align: middle;\n",
       "    }\n",
       "\n",
       "    .dataframe tbody tr th {\n",
       "        vertical-align: top;\n",
       "    }\n",
       "\n",
       "    .dataframe thead th {\n",
       "        text-align: right;\n",
       "    }\n",
       "</style>\n",
       "<table border=\"1\" class=\"dataframe\">\n",
       "  <thead>\n",
       "    <tr style=\"text-align: right;\">\n",
       "      <th></th>\n",
       "      <th>ts</th>\n",
       "      <th>device</th>\n",
       "      <th>co</th>\n",
       "      <th>humidity</th>\n",
       "      <th>light</th>\n",
       "      <th>lpg</th>\n",
       "      <th>motion</th>\n",
       "      <th>smoke</th>\n",
       "      <th>temp</th>\n",
       "    </tr>\n",
       "  </thead>\n",
       "  <tbody>\n",
       "    <tr>\n",
       "      <th>0</th>\n",
       "      <td>1.594512e+09</td>\n",
       "      <td>b8:27:eb:bf:9d:51</td>\n",
       "      <td>0.004956</td>\n",
       "      <td>51.000000</td>\n",
       "      <td>False</td>\n",
       "      <td>0.007651</td>\n",
       "      <td>False</td>\n",
       "      <td>0.020411</td>\n",
       "      <td>22.700000</td>\n",
       "    </tr>\n",
       "    <tr>\n",
       "      <th>1</th>\n",
       "      <td>1.594512e+09</td>\n",
       "      <td>00:0f:00:70:91:0a</td>\n",
       "      <td>0.002840</td>\n",
       "      <td>76.000000</td>\n",
       "      <td>False</td>\n",
       "      <td>0.005114</td>\n",
       "      <td>False</td>\n",
       "      <td>0.013275</td>\n",
       "      <td>19.700001</td>\n",
       "    </tr>\n",
       "    <tr>\n",
       "      <th>2</th>\n",
       "      <td>1.594512e+09</td>\n",
       "      <td>b8:27:eb:bf:9d:51</td>\n",
       "      <td>0.004976</td>\n",
       "      <td>50.900000</td>\n",
       "      <td>False</td>\n",
       "      <td>0.007673</td>\n",
       "      <td>False</td>\n",
       "      <td>0.020475</td>\n",
       "      <td>22.600000</td>\n",
       "    </tr>\n",
       "    <tr>\n",
       "      <th>3</th>\n",
       "      <td>1.594512e+09</td>\n",
       "      <td>1c:bf:ce:15:ec:4d</td>\n",
       "      <td>0.004403</td>\n",
       "      <td>76.800003</td>\n",
       "      <td>True</td>\n",
       "      <td>0.007023</td>\n",
       "      <td>False</td>\n",
       "      <td>0.018628</td>\n",
       "      <td>27.000000</td>\n",
       "    </tr>\n",
       "    <tr>\n",
       "      <th>4</th>\n",
       "      <td>1.594512e+09</td>\n",
       "      <td>b8:27:eb:bf:9d:51</td>\n",
       "      <td>0.004967</td>\n",
       "      <td>50.900000</td>\n",
       "      <td>False</td>\n",
       "      <td>0.007664</td>\n",
       "      <td>False</td>\n",
       "      <td>0.020448</td>\n",
       "      <td>22.600000</td>\n",
       "    </tr>\n",
       "  </tbody>\n",
       "</table>\n",
       "</div>"
      ],
      "text/plain": [
       "             ts             device        co   humidity  light       lpg  \\\n",
       "0  1.594512e+09  b8:27:eb:bf:9d:51  0.004956  51.000000  False  0.007651   \n",
       "1  1.594512e+09  00:0f:00:70:91:0a  0.002840  76.000000  False  0.005114   \n",
       "2  1.594512e+09  b8:27:eb:bf:9d:51  0.004976  50.900000  False  0.007673   \n",
       "3  1.594512e+09  1c:bf:ce:15:ec:4d  0.004403  76.800003   True  0.007023   \n",
       "4  1.594512e+09  b8:27:eb:bf:9d:51  0.004967  50.900000  False  0.007664   \n",
       "\n",
       "   motion     smoke       temp  \n",
       "0   False  0.020411  22.700000  \n",
       "1   False  0.013275  19.700001  \n",
       "2   False  0.020475  22.600000  \n",
       "3   False  0.018628  27.000000  \n",
       "4   False  0.020448  22.600000  "
      ]
     },
     "execution_count": 14,
     "metadata": {},
     "output_type": "execute_result"
    }
   ],
   "source": [
    "# Read the CSV file using the correct relative path\n",
    "df = pd.read_csv(\"../data/iot_telemetry_data.csv\")\n",
    "df.head()\n"
   ]
  },
  {
   "cell_type": "code",
   "execution_count": 15,
   "metadata": {},
   "outputs": [
    {
     "data": {
      "text/html": [
       "<div>\n",
       "<style scoped>\n",
       "    .dataframe tbody tr th:only-of-type {\n",
       "        vertical-align: middle;\n",
       "    }\n",
       "\n",
       "    .dataframe tbody tr th {\n",
       "        vertical-align: top;\n",
       "    }\n",
       "\n",
       "    .dataframe thead th {\n",
       "        text-align: right;\n",
       "    }\n",
       "</style>\n",
       "<table border=\"1\" class=\"dataframe\">\n",
       "  <thead>\n",
       "    <tr style=\"text-align: right;\">\n",
       "      <th></th>\n",
       "      <th>ts</th>\n",
       "      <th>co</th>\n",
       "      <th>humidity</th>\n",
       "      <th>lpg</th>\n",
       "      <th>smoke</th>\n",
       "      <th>temp</th>\n",
       "    </tr>\n",
       "  </thead>\n",
       "  <tbody>\n",
       "    <tr>\n",
       "      <th>count</th>\n",
       "      <td>4.051840e+05</td>\n",
       "      <td>405184.000000</td>\n",
       "      <td>405184.000000</td>\n",
       "      <td>405184.000000</td>\n",
       "      <td>405184.000000</td>\n",
       "      <td>405184.000000</td>\n",
       "    </tr>\n",
       "    <tr>\n",
       "      <th>mean</th>\n",
       "      <td>1.594858e+09</td>\n",
       "      <td>0.004639</td>\n",
       "      <td>60.511694</td>\n",
       "      <td>0.007237</td>\n",
       "      <td>0.019264</td>\n",
       "      <td>22.453987</td>\n",
       "    </tr>\n",
       "    <tr>\n",
       "      <th>std</th>\n",
       "      <td>1.994984e+05</td>\n",
       "      <td>0.001250</td>\n",
       "      <td>11.366489</td>\n",
       "      <td>0.001444</td>\n",
       "      <td>0.004086</td>\n",
       "      <td>2.698347</td>\n",
       "    </tr>\n",
       "    <tr>\n",
       "      <th>min</th>\n",
       "      <td>1.594512e+09</td>\n",
       "      <td>0.001171</td>\n",
       "      <td>1.100000</td>\n",
       "      <td>0.002693</td>\n",
       "      <td>0.006692</td>\n",
       "      <td>0.000000</td>\n",
       "    </tr>\n",
       "    <tr>\n",
       "      <th>25%</th>\n",
       "      <td>1.594686e+09</td>\n",
       "      <td>0.003919</td>\n",
       "      <td>51.000000</td>\n",
       "      <td>0.006456</td>\n",
       "      <td>0.017024</td>\n",
       "      <td>19.900000</td>\n",
       "    </tr>\n",
       "    <tr>\n",
       "      <th>50%</th>\n",
       "      <td>1.594858e+09</td>\n",
       "      <td>0.004812</td>\n",
       "      <td>54.900000</td>\n",
       "      <td>0.007489</td>\n",
       "      <td>0.019950</td>\n",
       "      <td>22.200000</td>\n",
       "    </tr>\n",
       "    <tr>\n",
       "      <th>75%</th>\n",
       "      <td>1.595031e+09</td>\n",
       "      <td>0.005409</td>\n",
       "      <td>74.300003</td>\n",
       "      <td>0.008150</td>\n",
       "      <td>0.021838</td>\n",
       "      <td>23.600000</td>\n",
       "    </tr>\n",
       "    <tr>\n",
       "      <th>max</th>\n",
       "      <td>1.595203e+09</td>\n",
       "      <td>0.014420</td>\n",
       "      <td>99.900002</td>\n",
       "      <td>0.016567</td>\n",
       "      <td>0.046590</td>\n",
       "      <td>30.600000</td>\n",
       "    </tr>\n",
       "  </tbody>\n",
       "</table>\n",
       "</div>"
      ],
      "text/plain": [
       "                 ts             co       humidity            lpg  \\\n",
       "count  4.051840e+05  405184.000000  405184.000000  405184.000000   \n",
       "mean   1.594858e+09       0.004639      60.511694       0.007237   \n",
       "std    1.994984e+05       0.001250      11.366489       0.001444   \n",
       "min    1.594512e+09       0.001171       1.100000       0.002693   \n",
       "25%    1.594686e+09       0.003919      51.000000       0.006456   \n",
       "50%    1.594858e+09       0.004812      54.900000       0.007489   \n",
       "75%    1.595031e+09       0.005409      74.300003       0.008150   \n",
       "max    1.595203e+09       0.014420      99.900002       0.016567   \n",
       "\n",
       "               smoke           temp  \n",
       "count  405184.000000  405184.000000  \n",
       "mean        0.019264      22.453987  \n",
       "std         0.004086       2.698347  \n",
       "min         0.006692       0.000000  \n",
       "25%         0.017024      19.900000  \n",
       "50%         0.019950      22.200000  \n",
       "75%         0.021838      23.600000  \n",
       "max         0.046590      30.600000  "
      ]
     },
     "execution_count": 15,
     "metadata": {},
     "output_type": "execute_result"
    }
   ],
   "source": [
    "df.describe()\n"
   ]
  },
  {
   "cell_type": "code",
   "execution_count": 16,
   "metadata": {},
   "outputs": [
    {
     "data": {
      "text/plain": [
       "3"
      ]
     },
     "execution_count": 16,
     "metadata": {},
     "output_type": "execute_result"
    }
   ],
   "source": [
    "df['device'].nunique()"
   ]
  },
  {
   "cell_type": "code",
   "execution_count": 17,
   "metadata": {},
   "outputs": [
    {
     "data": {
      "text/plain": [
       "False    292657\n",
       "True     112527\n",
       "Name: light, dtype: int64"
      ]
     },
     "execution_count": 17,
     "metadata": {},
     "output_type": "execute_result"
    }
   ],
   "source": [
    "df['motion'].value_counts()\n",
    "df['light'].value_counts()\n"
   ]
  },
  {
   "cell_type": "code",
   "execution_count": 20,
   "metadata": {},
   "outputs": [
    {
     "data": {
      "text/plain": [
       "b8:27:eb:bf:9d:51    187451\n",
       "00:0f:00:70:91:0a    111815\n",
       "1c:bf:ce:15:ec:4d    105918\n",
       "Name: device, dtype: int64"
      ]
     },
     "execution_count": 20,
     "metadata": {},
     "output_type": "execute_result"
    }
   ],
   "source": [
    "df['device'].value_counts()\n"
   ]
  },
  {
   "cell_type": "code",
   "execution_count": 21,
   "metadata": {},
   "outputs": [
    {
     "data": {
      "image/png": "[encoded data removed]",
      "text/plain": [
       "<Figure size 640x480 with 1 Axes>"
      ]
     },
     "metadata": {},
     "output_type": "display_data"
    }
   ],
   "source": [
    "df['device'].value_counts().plot(kind='bar')\n",
    "plt.title('Number of readings per device')\n",
    "plt.ylabel('Readings')\n",
    "plt.show()\n"
   ]
  },
  {
   "cell_type": "code",
   "execution_count": 22,
   "metadata": {},
   "outputs": [
    {
     "data": {
      "image/png": "[encoded data removed]",
      "text/plain": [
       "<Figure size 640x480 with 1 Axes>"
      ]
     },
     "metadata": {},
     "output_type": "display_data"
    }
   ],
   "source": [
    "df['temp'].plot(kind='hist', bins=30, edgecolor='black')\n",
    "plt.title('Temperature Distribution')\n",
    "plt.xlabel('Temperature (°C)')\n",
    "plt.show()\n"
   ]
  }
 ],
 "metadata": {
  "kernelspec": {
   "display_name": "base",
   "language": "python",
   "name": "python3"
  },
  "language_info": {
   "codemirror_mode": {
    "name": "ipython",
    "version": 3
   },
   "file_extension": ".py",
   "mimetype": "text/x-python",
   "name": "python",
   "nbconvert_exporter": "python",
   "pygments_lexer": "ipython3",
   "version": "3.11.3"
  }
 },
 "nbformat": 4,
 "nbformat_minor": 2
}
